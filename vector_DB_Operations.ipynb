{
 "cells": [
  {
   "cell_type": "code",
   "execution_count": 1,
   "id": "a62d85a5",
   "metadata": {
    "scrolled": true
   },
   "outputs": [
    {
     "name": "stdout",
     "output_type": "stream",
     "text": [
      "Collecting pinecone\n",
      "  Obtaining dependency information for pinecone from https://files.pythonhosted.org/packages/9b/fe/b2c0b526d8d2d1790a71cae09441cca2185b8e1dacbd9821c3b1a37489ee/pinecone-4.0.0-py3-none-any.whl.metadata\n",
      "  Downloading pinecone-4.0.0-py3-none-any.whl.metadata (16 kB)\n",
      "Requirement already satisfied: certifi>=2019.11.17 in ./anaconda3/lib/python3.11/site-packages (from pinecone) (2023.11.17)\n",
      "Requirement already satisfied: tqdm>=4.64.1 in ./anaconda3/lib/python3.11/site-packages (from pinecone) (4.65.0)\n",
      "Requirement already satisfied: typing-extensions>=3.7.4 in ./anaconda3/lib/python3.11/site-packages (from pinecone) (4.7.1)\n",
      "Requirement already satisfied: urllib3>=1.26.0 in ./anaconda3/lib/python3.11/site-packages (from pinecone) (1.26.16)\n",
      "Downloading pinecone-4.0.0-py3-none-any.whl (214 kB)\n",
      "\u001b[2K   \u001b[90m━━━━━━━━━━━━━━━━━━━━━━━━━━━━━━━━━━━━━━━━\u001b[0m \u001b[32m214.4/214.4 kB\u001b[0m \u001b[31m3.0 MB/s\u001b[0m eta \u001b[36m0:00:00\u001b[0m \u001b[36m0:00:01\u001b[0m\n",
      "\u001b[?25hInstalling collected packages: pinecone\n",
      "Successfully installed pinecone-4.0.0\n",
      "Note: you may need to restart the kernel to use updated packages.\n"
     ]
    }
   ],
   "source": [
    "pip install pinecone"
   ]
  },
  {
   "cell_type": "code",
   "execution_count": 2,
   "id": "497ca4ed",
   "metadata": {},
   "outputs": [],
   "source": [
    "import pinecone"
   ]
  },
  {
   "cell_type": "code",
   "execution_count": 19,
   "id": "b5d81574",
   "metadata": {},
   "outputs": [],
   "source": [
    "from pinecone import Pinecone\n",
    "pc = Pinecone(api_key=\"YOUR API KEY\")"
   ]
  },
  {
   "cell_type": "code",
   "execution_count": 6,
   "id": "bc5b8e6d",
   "metadata": {},
   "outputs": [],
   "source": [
    "pc.create_index(\n",
    "    name=\"quickstart\",\n",
    "    dimension=4, # Replace with your model dimensions\n",
    "    metric=\"euclidean\", # Replace with your model metric\n",
    "    spec=ServerlessSpec(\n",
    "        cloud=\"aws\",\n",
    "        region=\"us-east-1\"\n",
    "    ) \n",
    ")"
   ]
  },
  {
   "cell_type": "code",
   "execution_count": 7,
   "id": "6ca98364",
   "metadata": {},
   "outputs": [
    {
     "data": {
      "text/plain": [
       "{'indexes': [{'dimension': 4,\n",
       "              'host': 'q',\n",
       "              'metric': 'euclidean',\n",
       "              'name': 'quickstart',\n",
       "              'spec': {'serverless': {'cloud': 'aws', 'region': 'us-east-1'}},\n",
       "              'status': {'ready': True, 'state': 'Ready'}}]}"
      ]
     },
     "execution_count": 7,
     "metadata": {},
     "output_type": "execute_result"
    }
   ],
   "source": [
    "pc.list_indexes()"
   ]
  },
  {
   "cell_type": "code",
   "execution_count": 9,
   "id": "9c885b76",
   "metadata": {},
   "outputs": [],
   "source": [
    "idx=pc.Index(\"quickstart\")"
   ]
  },
  {
   "cell_type": "code",
   "execution_count": 10,
   "id": "ca51c680",
   "metadata": {},
   "outputs": [
    {
     "data": {
      "text/plain": [
       "{'upserted_count': 2}"
      ]
     },
     "execution_count": 10,
     "metadata": {},
     "output_type": "execute_result"
    }
   ],
   "source": [
    "idx.upsert(vectors=[\n",
    "    (\"A\",[0.1,0.2,0.3,0.4]),\n",
    "    (\"B\",[0.5,0.6,0.7,0.8])\n",
    "])"
   ]
  },
  {
   "cell_type": "code",
   "execution_count": 13,
   "id": "c129e13e",
   "metadata": {},
   "outputs": [
    {
     "data": {
      "text/plain": [
       "{}"
      ]
     },
     "execution_count": 13,
     "metadata": {},
     "output_type": "execute_result"
    }
   ],
   "source": [
    "idx.update(id = \"B\",values = [0.5,0.6,0.7,0.9])"
   ]
  },
  {
   "cell_type": "code",
   "execution_count": 16,
   "id": "236d77b2",
   "metadata": {},
   "outputs": [
    {
     "data": {
      "text/plain": [
       "{'namespace': '',\n",
       " 'usage': {'read_units': 1},\n",
       " 'vectors': {'A': {'id': 'A', 'values': [0.1, 0.2, 0.3, 0.4]}}}"
      ]
     },
     "execution_count": 16,
     "metadata": {},
     "output_type": "execute_result"
    }
   ],
   "source": [
    "idx.fetch(ids=[\"A\"])"
   ]
  },
  {
   "cell_type": "code",
   "execution_count": null,
   "id": "c74deeb7",
   "metadata": {},
   "outputs": [],
   "source": []
  }
 ],
 "metadata": {
  "kernelspec": {
   "display_name": "Python 3 (ipykernel)",
   "language": "python",
   "name": "python3"
  },
  "language_info": {
   "codemirror_mode": {
    "name": "ipython",
    "version": 3
   },
   "file_extension": ".py",
   "mimetype": "text/x-python",
   "name": "python",
   "nbconvert_exporter": "python",
   "pygments_lexer": "ipython3",
   "version": "3.11.5"
  }
 },
 "nbformat": 4,
 "nbformat_minor": 5
}
